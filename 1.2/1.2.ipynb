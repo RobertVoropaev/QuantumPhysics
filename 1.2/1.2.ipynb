{
 "cells": [
  {
   "cell_type": "markdown",
   "metadata": {},
   "source": [
    "# Работа 1.2"
   ]
  },
  {
   "cell_type": "markdown",
   "metadata": {},
   "source": [
    "## Исследование эффекта Комптона"
   ]
  },
  {
   "cell_type": "code",
   "execution_count": 46,
   "metadata": {},
   "outputs": [],
   "source": [
    "%matplotlib inline \n",
    "import numpy as np\n",
    "import matplotlib.pyplot as plt \n",
    "import pandas as pd \n",
    "from scipy.optimize import curve_fit"
   ]
  },
  {
   "cell_type": "code",
   "execution_count": 76,
   "metadata": {},
   "outputs": [],
   "source": [
    "def line(x, a, b):\n",
    "    return a * x + b"
   ]
  },
  {
   "cell_type": "code",
   "execution_count": 98,
   "metadata": {},
   "outputs": [],
   "source": [
    "data = pd.read_csv('data/res.csv', sep = '\\t')\n",
    "det = 0\n",
    "E = 662 * 10**6\n",
    "angle = np.array(data[data.Other==det].Angle)\n",
    "canal = np.array(data[data.Other==det].Canal)"
   ]
  },
  {
   "cell_type": "code",
   "execution_count": 99,
   "metadata": {},
   "outputs": [
    {
     "name": "stdout",
     "output_type": "stream",
     "text": [
      "1.0957973955499158e-08 1.0713746585265195e-08\n"
     ]
    },
    {
     "data": {
      "text/plain": [
       "[<matplotlib.lines.Line2D at 0x7ff88c879710>]"
      ]
     },
     "execution_count": 99,
     "metadata": {},
     "output_type": "execute_result"
    },
    {
     "data": {
      "image/png": "[encoded data removed]",
      "text/plain": [
       "<Figure size 432x288 with 1 Axes>"
      ]
     },
     "metadata": {},
     "output_type": "display_data"
    }
   ],
   "source": [
    "res = curve_fit(f=line, xdata=(1 - np.cos(angle * 3.14 / 180)), ydata=(1/canal))\n",
    "popt, pcov = res\n",
    "a, b = popt\n",
    "a_s = pcov[0][0]\n",
    "b_s = pcov[1][1]\n",
    "print(a_s, a_b)\n",
    "\n",
    "plt.plot(1 - np.cos(angle * 3.14 / 180), 1/canal, \".\")\n",
    "plt.plot(1 - np.cos(angle* 3.14 / 180), line(1 - np.cos(angle * 3.14 / 180), a, b))"
   ]
  },
  {
   "cell_type": "code",
   "execution_count": 100,
   "metadata": {},
   "outputs": [
    {
     "name": "stdout",
     "output_type": "stream",
     "text": [
      "514.683373122558\n",
      "209.6394992334862\n",
      "454.9553699381461\n"
     ]
    }
   ],
   "source": [
    "N_0 = 1/line(0, a, b)\n",
    "N_90 = 1/line(1, a, b)\n",
    "print(N_0)\n",
    "print(N_90)\n",
    "print(662 * N_90 / (N_0 - N_90))"
   ]
  },
  {
   "cell_type": "code",
   "execution_count": 101,
   "metadata": {},
   "outputs": [
    {
     "name": "stdout",
     "output_type": "stream",
     "text": [
      "4.874276541122876\n"
     ]
    }
   ],
   "source": [
    "n0s = b_s\n",
    "n90s = (a_s**2 + b_s**2)*0.5\n",
    "Es = E*(N_90**2*n0s**2 + ((2 * N_0 - N_90) / (N_0 - N_90))**2 * n90s**2)**0.5/(N_0 - N_90)\n",
    "print(Es)"
   ]
  }
 ],
 "metadata": {
  "kernelspec": {
   "display_name": "Python 3",
   "language": "python",
   "name": "python3"
  },
  "language_info": {
   "codemirror_mode": {
    "name": "ipython",
    "version": 3
   },
   "file_extension": ".py",
   "mimetype": "text/x-python",
   "name": "python",
   "nbconvert_exporter": "python",
   "pygments_lexer": "ipython3",
   "version": "3.6.5"
  }
 },
 "nbformat": 4,
 "nbformat_minor": 2
}
