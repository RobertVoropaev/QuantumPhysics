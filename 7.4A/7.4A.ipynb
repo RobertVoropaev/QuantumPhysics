{
 "cells": [
  {
   "cell_type": "markdown",
   "metadata": {
    "slideshow": {
     "slide_type": "slide"
    }
   },
   "source": [
    "# Космическое излучение"
   ]
  },
  {
   "cell_type": "markdown",
   "metadata": {
    "slideshow": {
     "slide_type": "subslide"
    }
   },
   "source": [
    "Загружаем данные"
   ]
  },
  {
   "cell_type": "markdown",
   "metadata": {
    "slideshow": {
     "slide_type": "subslide"
    }
   },
   "source": [
    "### Цель работы: Определение средней энергии вторичного космического излучения по их пробегу в веществе.\n",
    "### Студент: Воропаев Роберт, 691 гр\n",
    "### Курирующий преподаватель: Михаил Зелёный"
   ]
  },
  {
   "cell_type": "markdown",
   "metadata": {
    "slideshow": {
     "slide_type": "slide"
    }
   },
   "source": [
    "## Установка"
   ]
  },
  {
   "cell_type": "markdown",
   "metadata": {
    "slideshow": {
     "slide_type": "subslide"
    }
   },
   "source": [
    "Установка состоит из двух счетчиков Гейгера-Мюллера, набора свинцовых пластин, которые можно вдвигать в зазор между счетчиками и блока управления и индикации. Установка может поворачиваться вокруг оси крепления его к стойке на угол, считываемый на круговом лимбе прибора.\n",
    "\n",
    "Блок управления и индикации содержит:\n",
    "<ul>\n",
    "    <li> Таймер с максимальным временем измерения 999 с\n",
    "    <li> Высоковольтный выпрямитель для питания счетчиков\n",
    "    <li> Схема совпадений, которая формирует сигнал только если сигналы с двух счетчиков совпадают во времени с некоторой точностью ($t \\approx 1 \\text{мкс}$)\n",
    "    <li> Блок пересчета импульсов\n",
    "</ul>"
   ]
  },
  {
   "cell_type": "markdown",
   "metadata": {
    "slideshow": {
     "slide_type": "subslide"
    }
   },
   "source": [
    "<html>\n",
    " <body>\n",
    "  <p><img src=\"data/device.jpg\" alt=\"Установка\"></p>\n",
    " </body>\n",
    "</html>"
   ]
  },
  {
   "cell_type": "markdown",
   "metadata": {
    "slideshow": {
     "slide_type": "slide"
    }
   },
   "source": [
    "## Выполнение работы"
   ]
  },
  {
   "cell_type": "markdown",
   "metadata": {
    "slideshow": {
     "slide_type": "subslide"
    }
   },
   "source": [
    "Подключаем необходимые библиотеки"
   ]
  },
  {
   "cell_type": "code",
   "execution_count": 2,
   "metadata": {
    "slideshow": {
     "slide_type": "fragment"
    }
   },
   "outputs": [],
   "source": [
    "%matplotlib inline \n",
    "import numpy as np \n",
    "import matplotlib.pyplot as plt \n",
    "import pandas as pd \n",
    "from scipy.optimize import curve_fit"
   ]
  },
  {
   "cell_type": "markdown",
   "metadata": {
    "slideshow": {
     "slide_type": "subslide"
    }
   },
   "source": [
    "Загружаем данные с каждой из установок"
   ]
  },
  {
   "cell_type": "code",
   "execution_count": 3,
   "metadata": {
    "scrolled": true,
    "slideshow": {
     "slide_type": "subslide"
    }
   },
   "outputs": [
    {
     "data": {
      "image/png": "[encoded data removed]",
      "text/plain": [
       "<Figure size 432x288 with 1 Axes>"
      ]
     },
     "metadata": {},
     "output_type": "display_data"
    }
   ],
   "source": [
    "data = pd.read_csv('data/data.csv', sep = '\\t') #данные измерений с установок\n",
    "time = data.time\n",
    "\n",
    "#данные с каждой из установок\n",
    "imp1 = data.imp1\n",
    "imp2 = data.imp2\n",
    "imp3 = data.imp3\n",
    "\n",
    "num = np.array(data.num) #количество свинцовых пластин\n",
    "d0 = 1.9 #толщина пластины\n",
    "p_pb = 11.3 #плотность свинца\n",
    "d = num * d0 \n",
    "\n",
    "plt.plot(d, imp1, \"o\", label=\"1\")\n",
    "plt.plot(d, imp2, \"o\", label=\"2\")\n",
    "plt.plot(d, imp3, \"o\", label=\"3\")\n",
    "\n",
    "plt.xlabel(\"d, mm\")\n",
    "plt.ylabel(\"N\")\n",
    "plt.legend()\n",
    "plt.show()"
   ]
  },
  {
   "cell_type": "markdown",
   "metadata": {
    "slideshow": {
     "slide_type": "slide"
    }
   },
   "source": [
    "## Определение среднего пробега"
   ]
  },
  {
   "cell_type": "markdown",
   "metadata": {
    "slideshow": {
     "slide_type": "subslide"
    }
   },
   "source": [
    "Суммируем данные с установок"
   ]
  },
  {
   "cell_type": "code",
   "execution_count": 4,
   "metadata": {
    "slideshow": {
     "slide_type": "fragment"
    }
   },
   "outputs": [
    {
     "data": {
      "image/png": "[encoded data removed]",
      "text/plain": [
       "<Figure size 432x288 with 1 Axes>"
      ]
     },
     "metadata": {},
     "output_type": "display_data"
    }
   ],
   "source": [
    "imp = imp1 + imp2 + imp3\n",
    "imp_err = np.sqrt(imp)\n",
    "\n",
    "plt.title(\"Sum\")\n",
    "plt.errorbar(d, imp, yerr=imp_err, label=\"result\", fmt=\"o\")\n",
    "plt.xlabel(\"d, mm\")\n",
    "plt.ylabel(\"N\")\n",
    "plt.legend()\n",
    "plt.show()"
   ]
  },
  {
   "cell_type": "markdown",
   "metadata": {
    "slideshow": {
     "slide_type": "subslide"
    }
   },
   "source": [
    "Апроксимируем график"
   ]
  },
  {
   "cell_type": "code",
   "execution_count": 13,
   "metadata": {
    "slideshow": {
     "slide_type": "fragment"
    }
   },
   "outputs": [],
   "source": [
    "#фитирующая функция\n",
    "def fit_func(x, a, b, c):\n",
    "    L = x * d0 * p_pb\n",
    "    return c * np.exp(-L/a) + b"
   ]
  },
  {
   "cell_type": "code",
   "execution_count": 5,
   "metadata": {
    "slideshow": {
     "slide_type": "subslide"
    }
   },
   "outputs": [
    {
     "name": "stdout",
     "output_type": "stream",
     "text": [
      "49.85158115063842 540.3974278249052 169.1625501498648\n",
      "15.60503238640902 9.29453469527686 23.937070963664407\n"
     ]
    },
    {
     "data": {
      "image/png": "[encoded data removed]",
      "text/plain": [
       "<Figure size 432x288 with 1 Axes>"
      ]
     },
     "metadata": {},
     "output_type": "display_data"
    }
   ],
   "source": [
    "popt, pcov = curve_fit(fit_func, d, imp, sigma=imp_err, p0=[10, 300, 70])\n",
    "a, b, c = popt\n",
    "a_err, b_err, c_err = np.sqrt([pcov[0][0], pcov[1][1], pcov[2][2]])\n",
    "print(a, b, c)\n",
    "print(a_err, b_err, c_err)\n",
    "\n",
    "plt.errorbar(d,imp, yerr=imp_err, label=\"result\", fmt=\"o\")\n",
    "plt.plot(d, fit_func(d, *popt), label=\"fitter\")\n",
    "plt.legend()\n",
    "plt.xlabel(\"d, mm\")\n",
    "plt.ylabel(\"N\")\n",
    "plt.show()"
   ]
  },
  {
   "cell_type": "markdown",
   "metadata": {
    "slideshow": {
     "slide_type": "subslide"
    }
   },
   "source": [
    "Найдем средний пробег и ошибку"
   ]
  },
  {
   "cell_type": "code",
   "execution_count": 6,
   "metadata": {
    "slideshow": {
     "slide_type": "fragment"
    }
   },
   "outputs": [
    {
     "name": "stdout",
     "output_type": "stream",
     "text": [
      "lambda = 44.116443496140185 mm\n",
      "lambda_error = 13.809763173813291 mm\n"
     ]
    }
   ],
   "source": [
    "lam = a / p_pb * 10\n",
    "lam_err = a_err / p_pb * 10\n",
    "print(\"lambda =\", lam, \"mm\")\n",
    "print(\"lambda_error =\", lam_err, \"mm\")"
   ]
  },
  {
   "cell_type": "markdown",
   "metadata": {
    "slideshow": {
     "slide_type": "slide"
    }
   },
   "source": [
    "## Определение средней энергии"
   ]
  },
  {
   "cell_type": "markdown",
   "metadata": {
    "slideshow": {
     "slide_type": "subslide"
    }
   },
   "source": [
    "Воспользуемся результатами моделирования прохождения частиц в свинце"
   ]
  },
  {
   "cell_type": "code",
   "execution_count": 7,
   "metadata": {
    "slideshow": {
     "slide_type": "fragment"
    }
   },
   "outputs": [
    {
     "data": {
      "image/png": "[encoded data removed]",
      "text/plain": [
       "<Figure size 432x288 with 1 Axes>"
      ]
     },
     "metadata": {},
     "output_type": "display_data"
    }
   ],
   "source": [
    "result = pd.DataFrame(np.load('data/result.npy')) #моделирования прохождение электрона в свинце\n",
    "plt.plot(result.ranges, result.energy, \".\")\n",
    "plt.xlabel(\"lambda, mm\")\n",
    "plt.ylabel(\"E, MeV\")\n",
    "\n",
    "#строим среднюю энергию\n",
    "y = [0,  1000]\n",
    "lam_x = [lam] * 2\n",
    "plt.plot(lam_x, y, 'r')\n",
    "\n",
    "#строим ошибку\n",
    "err_x_1 = [lam - lam_err] * 2\n",
    "err_x_2 = [lam + lam_err] * 2\n",
    "plt.plot(err_x_1, y, \"y\")\n",
    "plt.plot(err_x_2, y, \"y\")\n",
    "plt.legend()\n",
    "plt.show()"
   ]
  },
  {
   "cell_type": "markdown",
   "metadata": {
    "slideshow": {
     "slide_type": "subslide"
    }
   },
   "source": [
    "Для апроксимации перейдем к логарифмическому масштабу"
   ]
  },
  {
   "cell_type": "code",
   "execution_count": 8,
   "metadata": {
    "slideshow": {
     "slide_type": "fragment"
    }
   },
   "outputs": [
    {
     "name": "stdout",
     "output_type": "stream",
     "text": [
      "0.0905739564804795 2.3428135580565206\n",
      "0.0018032681783549894 0.06535489375234879\n"
     ]
    }
   ],
   "source": [
    "def line(x, a, b):\n",
    "    return a * x + b\n",
    "\n",
    "popt, pcov = curve_fit(line, result.ranges, np.log(result.energy))\n",
    "a, b = popt\n",
    "a_err, b_err = np.sqrt([pcov[0][0], pcov[1][1]])\n",
    "print(a, b)\n",
    "print(a_err, b_err)"
   ]
  },
  {
   "cell_type": "code",
   "execution_count": 9,
   "metadata": {
    "slideshow": {
     "slide_type": "subslide"
    }
   },
   "outputs": [
    {
     "data": {
      "image/png": "[encoded data removed]",
      "text/plain": [
       "<Figure size 432x288 with 1 Axes>"
      ]
     },
     "metadata": {},
     "output_type": "display_data"
    }
   ],
   "source": [
    "x = np.linspace(0, 70, 100)\n",
    "plt.plot(result.ranges, np.log(result.energy), \".\")\n",
    "plt.plot(x, line(x, *popt), label=\"fitter\")\n",
    "plt.xlabel(\"lambda, mm\")\n",
    "plt.ylabel(\"logE\")\n",
    "\n",
    "y = [0,  9]\n",
    "plt.plot(lam_x, y, 'r')\n",
    "plt.plot(err_x_1, y, \"y\")\n",
    "plt.plot(err_x_2, y, \"y\")\n",
    "plt.legend()\n",
    "plt.show()"
   ]
  },
  {
   "cell_type": "code",
   "execution_count": 10,
   "metadata": {
    "slideshow": {
     "slide_type": "subslide"
    }
   },
   "outputs": [
    {
     "name": "stdout",
     "output_type": "stream",
     "text": [
      "6.338614391349455 5.087809502638761 7.589419280060148\n"
     ]
    }
   ],
   "source": [
    "log_E = line(lam, a, b)\n",
    "log_E_error_1 = line(lam - lam_err, a, b)\n",
    "log_E_error_2 = line(lam + lam_err, a, b)\n",
    "print(log_E, log_E_error_1, log_E_error_2)"
   ]
  },
  {
   "cell_type": "code",
   "execution_count": 11,
   "metadata": {
    "slideshow": {
     "slide_type": "subslide"
    }
   },
   "outputs": [
    {
     "data": {
      "image/png": "[encoded data removed]",
      "text/plain": [
       "<Figure size 432x288 with 1 Axes>"
      ]
     },
     "metadata": {},
     "output_type": "display_data"
    }
   ],
   "source": [
    "x = np.linspace(0, 70, 100)\n",
    "plt.plot(result.ranges, np.log(result.energy), \".\")\n",
    "plt.plot(x, line(x, *popt), label=\"fitter\")\n",
    "plt.xlabel(\"lambda, mm\")\n",
    "plt.ylabel(\"logE\")\n",
    "\n",
    "y = [0,  9]\n",
    "plt.plot(lam_x, y, 'r')\n",
    "plt.plot(err_x_1, y, \"y\")\n",
    "plt.plot(err_x_2, y, \"y\")\n",
    "\n",
    "x = [0, 70]\n",
    "log_E_y = [log_E] * 2\n",
    "log_E_error_1_y = [log_E_error_1] * 2\n",
    "log_E_error_2_y = [log_E_error_2] * 2\n",
    "plt.plot(x, log_E_y, 'r')\n",
    "plt.plot(x, log_E_error_1_y, \"y\")\n",
    "plt.plot(x, log_E_error_2_y, \"y\")\n",
    "\n",
    "plt.legend()\n",
    "plt.show()"
   ]
  },
  {
   "cell_type": "code",
   "execution_count": 12,
   "metadata": {
    "slideshow": {
     "slide_type": "subslide"
    }
   },
   "outputs": [
    {
     "name": "stdout",
     "output_type": "stream",
     "text": [
      "566.0114973575633 403.9769605568009\n"
     ]
    }
   ],
   "source": [
    "E = np.exp(log_E)\n",
    "E_err = (E - np.exp(log_E_error_1))\n",
    "print(E, E_err)"
   ]
  },
  {
   "cell_type": "markdown",
   "metadata": {
    "slideshow": {
     "slide_type": "slide"
    }
   },
   "source": [
    "## Результаты"
   ]
  },
  {
   "cell_type": "markdown",
   "metadata": {
    "slideshow": {
     "slide_type": "fragment"
    }
   },
   "source": [
    "Мы определили среднюю энергию электронов вторичного космического излучения:\n",
    "\n",
    "$E = 566 \\pm 404$ $МэВ$."
   ]
  },
  {
   "cell_type": "markdown",
   "metadata": {
    "slideshow": {
     "slide_type": "slide"
    }
   },
   "source": [
    "## Список литературы"
   ]
  },
  {
   "cell_type": "markdown",
   "metadata": {
    "slideshow": {
     "slide_type": "fragment"
    }
   },
   "source": [
    "<ol>\n",
    "    <li> Сивухин Д.В. Общий курс физики: Атомная и ядерная физика. </li>\n",
    "    <li> Игошин Ф.Ф., Самарский Ю.А., Ципенюк Ю.М. Лабораторный практикум по общей физике: Квантовая физика. </li>\n",
    "    <li> Мурзин В.С. Введение в физику космических лучей. </li>\n",
    "    \n",
    "</ol>"
   ]
  },
  {
   "cell_type": "markdown",
   "metadata": {
    "slideshow": {
     "slide_type": "slide"
    }
   },
   "source": [
    "# Спасибо за внимание!"
   ]
  }
 ],
 "metadata": {
  "celltoolbar": "Slideshow",
  "kernelspec": {
   "display_name": "Python 3",
   "language": "python",
   "name": "python3"
  },
  "language_info": {
   "codemirror_mode": {
    "name": "ipython",
    "version": 3
   },
   "file_extension": ".py",
   "mimetype": "text/x-python",
   "name": "python",
   "nbconvert_exporter": "python",
   "pygments_lexer": "ipython3",
   "version": "3.6.5"
  }
 },
 "nbformat": 4,
 "nbformat_minor": 2
}
