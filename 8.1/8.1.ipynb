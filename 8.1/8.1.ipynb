{
 "cells": [
  {
   "cell_type": "markdown",
   "metadata": {},
   "source": [
    "# Лабораторная работа 8.1"
   ]
  },
  {
   "cell_type": "markdown",
   "metadata": {},
   "source": [
    "## Определение постоянных Стефана-Больцмана и Планка из анализа теплового излучения накаленного тела"
   ]
  },
  {
   "cell_type": "code",
   "execution_count": 1,
   "metadata": {},
   "outputs": [],
   "source": [
    "%matplotlib inline \n",
    "import numpy as np\n",
    "import matplotlib.pyplot as plt \n",
    "import pandas as pd \n",
    "from scipy.optimize import curve_fit"
   ]
  },
  {
   "cell_type": "code",
   "execution_count": 4,
   "metadata": {},
   "outputs": [],
   "source": [
    "def line(x, a, b):\n",
    "    return a * x + b"
   ]
  },
  {
   "cell_type": "markdown",
   "metadata": {},
   "source": [
    "## 1. Изучение работы оптического пирометра"
   ]
  },
  {
   "cell_type": "markdown",
   "metadata": {},
   "source": [
    "Проведем измерение температуры с помощью пирометра и термопары."
   ]
  },
  {
   "cell_type": "code",
   "execution_count": 37,
   "metadata": {},
   "outputs": [
    {
     "data": {
      "image/png": "[encoded data removed]",
      "text/plain": [
       "<Figure size 432x288 with 1 Axes>"
      ]
     },
     "metadata": {},
     "output_type": "display_data"
    },
    {
     "name": "stdout",
     "output_type": "stream",
     "text": [
      "a = 1.300000000000654\n",
      "b = -0.5000000000032705\n"
     ]
    }
   ],
   "source": [
    "data = pd.read_csv('data/first.csv', sep = '\\t')\n",
    "pir = data.t_pir\n",
    "term = data.t_term\n",
    "\n",
    "res = curve_fit(f=line, xdata=pir, ydata=term)\n",
    "popt, pcov = res\n",
    "a, b = popt\n",
    "\n",
    "plt.plot(term, pir, \".\", label=\"data\")\n",
    "plt.xlabel(\"t_term\")\n",
    "plt.ylabel(\"t_pir\")\n",
    "plt.plot(term, line(term, *popt), label=\"fiting\")\n",
    "plt.legend()\n",
    "plt.show()\n",
    "print(\"a = {}\\nb = {}\".format(a, b))"
   ]
  },
  {
   "cell_type": "markdown",
   "metadata": {},
   "source": [
    "Как мы видим, значения температуры почти не отличаются и оптический пирометр работает корректно."
   ]
  },
  {
   "cell_type": "markdown",
   "metadata": {},
   "source": [
    "## 2. Измерение яркостной температуры накаленных тел"
   ]
  },
  {
   "cell_type": "markdown",
   "metadata": {},
   "source": [
    "Покажем, что различные тела, накаленные до одинаковой термодинамической температуры, имеют различную яркостную температуру."
   ]
  },
  {
   "cell_type": "code",
   "execution_count": 38,
   "metadata": {},
   "outputs": [
    {
     "name": "stdout",
     "output_type": "stream",
     "text": [
      "   material  t_pir\n",
      "0         1    800\n",
      "1         2    750\n",
      "2         3    850\n"
     ]
    }
   ],
   "source": [
    "data = pd.read_csv('data/second.csv', sep = '\\t')\n",
    "print(data)"
   ]
  },
  {
   "cell_type": "markdown",
   "metadata": {},
   "source": [
    "Как мы видим, яркостная температура различается для каждого материала, при одинаковой термодинамической температуре.\n",
    "Это вызвано разностью значений коэффициента излучения для каждого из материалов."
   ]
  },
  {
   "cell_type": "markdown",
   "metadata": {},
   "source": [
    "## 3. Проверка закона Стефана-Больцмана"
   ]
  },
  {
   "cell_type": "code",
   "execution_count": 50,
   "metadata": {},
   "outputs": [
    {
     "name": "stdout",
     "output_type": "stream",
     "text": [
      "    t_term      E  t_pir   I   U\n",
      "8     1700  0.209    NaN NaN NaN\n",
      "9     1800  0.223    NaN NaN NaN\n",
      "10    1900  0.236    NaN NaN NaN\n",
      "11    2000  0.249    NaN NaN NaN\n"
     ]
    }
   ],
   "source": [
    "data = pd.read_csv('data/third.csv', sep = '\\t')\n",
    "pir = np.array(data.t_pir) + 273.16\n",
    "term = np.array(data.t_term) + 273.16\n",
    "I = data.I\n",
    "U = data.U\n",
    "E = data.E\n",
    "\n",
    "data_over_1700 = data[data.t_term >= 1700]\n",
    "print(pir_o)"
   ]
  }
 ],
 "metadata": {
  "kernelspec": {
   "display_name": "Python 3",
   "language": "python",
   "name": "python3"
  },
  "language_info": {
   "codemirror_mode": {
    "name": "ipython",
    "version": 3
   },
   "file_extension": ".py",
   "mimetype": "text/x-python",
   "name": "python",
   "nbconvert_exporter": "python",
   "pygments_lexer": "ipython3",
   "version": "3.6.5"
  }
 },
 "nbformat": 4,
 "nbformat_minor": 2
}
