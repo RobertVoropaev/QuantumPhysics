{
 "cells": [
  {
   "cell_type": "markdown",
   "metadata": {},
   "source": [
    "# Лабораторная работа 8.1"
   ]
  },
  {
   "cell_type": "markdown",
   "metadata": {},
   "source": [
    "## Определение постоянных Стефана-Больцмана и Планка из анализа теплового излучения накаленного тела"
   ]
  },
  {
   "cell_type": "code",
   "execution_count": 30,
   "metadata": {},
   "outputs": [],
   "source": [
    "%matplotlib inline \n",
    "import numpy as np\n",
    "import matplotlib.pyplot as plt \n",
    "import pandas as pd \n",
    "from scipy.optimize import curve_fit"
   ]
  },
  {
   "cell_type": "code",
   "execution_count": 31,
   "metadata": {},
   "outputs": [],
   "source": [
    "def line(x, a, b):\n",
    "    return a * x + b"
   ]
  },
  {
   "cell_type": "markdown",
   "metadata": {},
   "source": [
    "## 1. Изучение работы оптического пирометра"
   ]
  },
  {
   "cell_type": "markdown",
   "metadata": {},
   "source": [
    "Проведем измерение температуры с помощью пирометра и термопары."
   ]
  },
  {
   "cell_type": "code",
   "execution_count": 32,
   "metadata": {},
   "outputs": [
    {
     "name": "stdout",
     "output_type": "stream",
     "text": [
      "982.5 943.0\n"
     ]
    }
   ],
   "source": [
    "data = pd.read_csv('data/first.csv', sep = '\\t')\n",
    "pir = np.array(data.t_pir)\n",
    "term = np.array(data.t_term)\n",
    "\n",
    "print(pir.sum()/len(pir), term.sum()/len(term) + 23)"
   ]
  },
  {
   "cell_type": "markdown",
   "metadata": {},
   "source": [
    "Как мы видим, значения температуры почти не отличаются и оптический пирометр работает корректно."
   ]
  },
  {
   "cell_type": "markdown",
   "metadata": {},
   "source": [
    "## 2. Измерение яркостной температуры накаленных тел"
   ]
  },
  {
   "cell_type": "markdown",
   "metadata": {},
   "source": [
    "Покажем, что различные тела, накаленные до одинаковой термодинамической температуры, имеют различную яркостную температуру."
   ]
  },
  {
   "cell_type": "code",
   "execution_count": 33,
   "metadata": {},
   "outputs": [
    {
     "name": "stdout",
     "output_type": "stream",
     "text": [
      "   material  t_pir\n",
      "0         1    843\n",
      "1         2    786\n",
      "2         3    849\n"
     ]
    }
   ],
   "source": [
    "data = pd.read_csv('data/second.csv', sep = '\\t')\n",
    "print(data)"
   ]
  },
  {
   "cell_type": "markdown",
   "metadata": {},
   "source": [
    "Как мы видим, яркостная температура различается для каждого материала, при одинаковой термодинамической температуре.\n",
    "Это вызвано разностью значений коэффициента излучения для каждого из материалов."
   ]
  },
  {
   "cell_type": "markdown",
   "metadata": {},
   "source": [
    "## 3. Проверка закона Стефана-Больцмана"
   ]
  },
  {
   "cell_type": "code",
   "execution_count": 34,
   "metadata": {},
   "outputs": [
    {
     "data": {
      "image/png": "[encoded data removed]",
      "text/plain": [
       "<Figure size 432x288 with 1 Axes>"
      ]
     },
     "metadata": {},
     "output_type": "display_data"
    },
    {
     "data": {
      "image/png": "[encoded data removed]",
      "text/plain": [
       "<Figure size 432x288 with 1 Axes>"
      ]
     },
     "metadata": {},
     "output_type": "display_data"
    },
    {
     "name": "stdout",
     "output_type": "stream",
     "text": [
      "n =  2.5994351067958696\n"
     ]
    }
   ],
   "source": [
    "data = pd.read_csv('data/third.csv', sep = '\\t')\n",
    "\n",
    "I = np.array(data.I)\n",
    "U = np.array(data.U)\n",
    "T = np.array(data.t_abs)\n",
    "E = np.array(data.E)\n",
    "W = I * U\n",
    "\n",
    "plt.plot(T, W)\n",
    "plt.xlabel(\"T\")\n",
    "plt.ylabel(\"W\")\n",
    "plt.show()\n",
    "\n",
    "res = curve_fit(f=line, xdata=np.log(T), ydata=np.log(W))\n",
    "popt, pcov = res\n",
    "a, b = popt\n",
    "\n",
    "plt.plot(np.log(T), np.log(W), \".\")\n",
    "plt.plot(np.log(T), line(np.log(T), a, b))\n",
    "plt.xlabel(\"lg(T)\")\n",
    "plt.ylabel(\"lg(W)\")\n",
    "plt.show()\n",
    "print(\"n = \", a)"
   ]
  },
  {
   "cell_type": "markdown",
   "metadata": {},
   "source": [
    "Как мы видим, значение полученного нами коэффициента близко к 4."
   ]
  },
  {
   "cell_type": "markdown",
   "metadata": {},
   "source": [
    "### Вычислим постоянную Стефана-Больцмана"
   ]
  },
  {
   "cell_type": "code",
   "execution_count": 42,
   "metadata": {},
   "outputs": [
    {
     "name": "stdout",
     "output_type": "stream",
     "text": [
      "7.580469143117532e-05\n",
      "1.0507207595411821e-05\n"
     ]
    }
   ],
   "source": [
    "S = 0.36\n",
    "\n",
    "data_1700 = data[data.t_abs >= 1400]\n",
    "I = np.array(data_1700.I)\n",
    "U = np.array(data_1700.U)\n",
    "T = np.array(data_1700.t_abs + 273)\n",
    "E = np.array(data_1700.E)\n",
    "W = I * U\n",
    "W *= 10**7\n",
    "q = W / E / S / T**4\n",
    "\n",
    "Eq = q.sum() / len(q)\n",
    "print(Eq)\n",
    "Sq = 0\n",
    "for i in q:\n",
    "    Sq += (i - Eq)**2\n",
    "Sq /= len(q)\n",
    "Sq **= 0.5\n",
    "print(q.std())"
   ]
  },
  {
   "cell_type": "markdown",
   "metadata": {},
   "source": [
    "### Вычислить постоянную Планка"
   ]
  },
  {
   "cell_type": "code",
   "execution_count": 36,
   "metadata": {},
   "outputs": [
    {
     "name": "stdout",
     "output_type": "stream",
     "text": [
      "6.0358944264996344e-27\n",
      "2.9522750328769217e-28\n"
     ]
    }
   ],
   "source": [
    "k = 1.38 * 10**(-16)\n",
    "c = 3 * 10**10\n",
    "h = ((2 * np.pi**5 * k**4) / (15 * c ** 2 * q)) ** (1 / 3)\n",
    "\n",
    "Eh = h.sum() / len(q)\n",
    "print(Eh)\n",
    "Sh = 0\n",
    "for i in h:\n",
    "    Sh += (i - Eh)**2\n",
    "Sh /= len(h)\n",
    "Sh **= 0.5\n",
    "print(Sh)"
   ]
  }
 ],
 "metadata": {
  "kernelspec": {
   "display_name": "Python 3",
   "language": "python",
   "name": "python3"
  },
  "language_info": {
   "codemirror_mode": {
    "name": "ipython",
    "version": 3
   },
   "file_extension": ".py",
   "mimetype": "text/x-python",
   "name": "python",
   "nbconvert_exporter": "python",
   "pygments_lexer": "ipython3",
   "version": "3.6.5"
  }
 },
 "nbformat": 4,
 "nbformat_minor": 2
}
