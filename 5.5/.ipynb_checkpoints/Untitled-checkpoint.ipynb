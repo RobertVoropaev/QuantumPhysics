{
 "cells": [
  {
   "cell_type": "code",
   "execution_count": 1,
   "metadata": {},
   "outputs": [],
   "source": [
    "%matplotlib inline\n",
    "import numpy as np\n",
    "import pandas as pd\n",
    "import matplotlib.pyplot as plt\n",
    "from scipy.optimize import curve_fit\n",
    "import math as m"
   ]
  },
  {
   "cell_type": "code",
   "execution_count": 7,
   "metadata": {},
   "outputs": [
    {
     "data": {
      "text/plain": [
       "[<matplotlib.lines.Line2D at 0x7f2db66a1b38>]"
      ]
     },
     "execution_count": 7,
     "metadata": {},
     "output_type": "execute_result"
    },
    {
     "data": {
      "image/png": "[encoded data removed]",
      "text/plain": [
       "<Figure size 432x288 with 1 Axes>"
      ]
     },
     "metadata": {},
     "output_type": "display_data"
    }
   ],
   "source": [
    "data = pd.read_table(\"result/Na.csv\", header=5)\n",
    "x = np.array(data[\"Channel\"])\n",
    "y = np.array(data[\"Counts\"])\n",
    "plt.plot(x, y)"
   ]
  },
  {
   "cell_type": "code",
   "execution_count": 9,
   "metadata": {},
   "outputs": [],
   "source": [
    "def fiter(x, pa, pb, pc, la, lb):\n",
    "    return pa*x*x + pb*x + pc + la*x + lb\n",
    "\n",
    "def x_max_parabola(pa, pb, pc):\n",
    "    return -pb / (2 * pa)\n",
    "\n",
    "def x_parabola(pa, pb, pc):\n",
    "    D = pb**2 - 4*pa*pc\n",
    "    if D < 0:\n",
    "        return []\n",
    "    elif D == 0:\n",
    "        return -pb / (2 * pa)\n",
    "    else:\n",
    "        x1 = (-pb - D**0.5) / 2*pa\n",
    "        x2 = (-pb + D**0.5) / 2*pa\n",
    "        return [x1, x2]\n",
    "    \n",
    "def x_max_fiter(pa, pb, pc, la, lb):\n",
    "    return -(pb + la) / (2 * pa)\n"
   ]
  },
  {
   "cell_type": "code",
   "execution_count": null,
   "metadata": {},
   "outputs": [],
   "source": []
  }
 ],
 "metadata": {
  "kernelspec": {
   "display_name": "Python 3",
   "language": "python",
   "name": "python3"
  },
  "language_info": {
   "codemirror_mode": {
    "name": "ipython",
    "version": 3
   },
   "file_extension": ".py",
   "mimetype": "text/x-python",
   "name": "python",
   "nbconvert_exporter": "python",
   "pygments_lexer": "ipython3",
   "version": "3.6.5"
  }
 },
 "nbformat": 4,
 "nbformat_minor": 2
}
